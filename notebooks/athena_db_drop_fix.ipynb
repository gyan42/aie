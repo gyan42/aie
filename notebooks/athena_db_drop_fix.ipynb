{
 "cells": [
  {
   "cell_type": "code",
   "execution_count": 54,
   "metadata": {},
   "outputs": [],
   "source": [
    "db_list = [\n",
    "\"db_prod_prime_2019_01_01\",\n",
    "\"db_prod_prime_2019_01_29\",\n",
    "\"db_prod_prime_2019_01_22\",\n",
    "\"db_prod_prime_2019_01_25\",\n",
    "\"db_prod_prime_2019_01_19\",\n",
    "\"db_prod_prime_2019_01_14\",\n",
    "\"db_prod_prime_2019_01_09\",\n",
    "\"db_prod_prime_2019_01_08\",\n",
    "\"db_prod_prime_2019_01_07\",\n",
    "\"db_prod_prime_2019_01_05\",\n",
    "\"db_prod_prime_2019_01_04\",\n",
    "\"db_prod_prime_2019_01_02\",\n",
    "\"db_prod_prime_2019_01_15\",\n",
    "\"db_prod_prime\",\n",
    "\"db_prod_prime_2019_01_13\",\n",
    "\"db_prod_prime_2019_01_16\",\n",
    "\"data_module_db_prod_prime_2019_01_16\",\n",
    "\"db_prod_prime_2019_01_12\"]"
   ]
  },
  {
   "cell_type": "code",
   "execution_count": 55,
   "metadata": {},
   "outputs": [],
   "source": [
    "database = \"db_prod_prime\"\n",
    "match = [s for s in db_list if s.startswith(database)]"
   ]
  },
  {
   "cell_type": "code",
   "execution_count": 56,
   "metadata": {},
   "outputs": [
    {
     "data": {
      "text/plain": [
       "['db_prod_prime_2019_01_29',\n",
       " 'db_prod_prime_2019_01_25',\n",
       " 'db_prod_prime_2019_01_22',\n",
       " 'db_prod_prime_2019_01_19',\n",
       " 'db_prod_prime_2019_01_16',\n",
       " 'db_prod_prime_2019_01_15',\n",
       " 'db_prod_prime_2019_01_14',\n",
       " 'db_prod_prime_2019_01_13',\n",
       " 'db_prod_prime_2019_01_12',\n",
       " 'db_prod_prime_2019_01_09',\n",
       " 'db_prod_prime_2019_01_08',\n",
       " 'db_prod_prime_2019_01_07',\n",
       " 'db_prod_prime_2019_01_05',\n",
       " 'db_prod_prime_2019_01_04',\n",
       " 'db_prod_prime_2019_01_02',\n",
       " 'db_prod_prime_2019_01_01',\n",
       " 'db_prod_prime']"
      ]
     },
     "execution_count": 56,
     "metadata": {},
     "output_type": "execute_result"
    }
   ],
   "source": [
    "match.sort(reverse=True)\n",
    "match"
   ]
  },
  {
   "cell_type": "code",
   "execution_count": 57,
   "metadata": {},
   "outputs": [
    {
     "data": {
      "text/plain": [
       "['db_prod_prime_2019_01_29',\n",
       " 'db_prod_prime_2019_01_25',\n",
       " 'db_prod_prime_2019_01_22',\n",
       " 'db_prod_prime_2019_01_19',\n",
       " 'db_prod_prime_2019_01_16',\n",
       " 'db_prod_prime_2019_01_15',\n",
       " 'db_prod_prime_2019_01_14',\n",
       " 'db_prod_prime_2019_01_13',\n",
       " 'db_prod_prime_2019_01_12',\n",
       " 'db_prod_prime_2019_01_09',\n",
       " 'db_prod_prime_2019_01_08',\n",
       " 'db_prod_prime_2019_01_07',\n",
       " 'db_prod_prime_2019_01_05',\n",
       " 'db_prod_prime_2019_01_04',\n",
       " 'db_prod_prime_2019_01_02',\n",
       " 'db_prod_prime_2019_01_01']"
      ]
     },
     "execution_count": 57,
     "metadata": {},
     "output_type": "execute_result"
    }
   ],
   "source": [
    "match = match[:-1]\n",
    "match"
   ]
  },
  {
   "cell_type": "code",
   "execution_count": 58,
   "metadata": {},
   "outputs": [
    {
     "data": {
      "text/plain": [
       "16"
      ]
     },
     "execution_count": 58,
     "metadata": {},
     "output_type": "execute_result"
    }
   ],
   "source": [
    "length = len(match)\n",
    "length"
   ]
  },
  {
   "cell_type": "code",
   "execution_count": 59,
   "metadata": {},
   "outputs": [
    {
     "data": {
      "text/plain": [
       "['db_prod_prime_2019_01_09',\n",
       " 'db_prod_prime_2019_01_08',\n",
       " 'db_prod_prime_2019_01_07',\n",
       " 'db_prod_prime_2019_01_05',\n",
       " 'db_prod_prime_2019_01_04',\n",
       " 'db_prod_prime_2019_01_02',\n",
       " 'db_prod_prime_2019_01_01']"
      ]
     },
     "execution_count": 59,
     "metadata": {},
     "output_type": "execute_result"
    }
   ],
   "source": [
    "delete_list = list()\n",
    "if length > 9:\n",
    "    delete_list = match[9:]\n",
    "delete_list"
   ]
  },
  {
   "cell_type": "code",
   "execution_count": 1,
   "metadata": {},
   "outputs": [],
   "source": [
    "import psycopg2\n",
    "import pandas as pd\n",
    "\n",
    "def postgressql_connection(host, port, database, user, password):\n",
    "    conn = psycopg2.connect(host=host, port=port, database=database, user=user, password=password)\n",
    "    return conn\n",
    "\n",
    "def create_pandas_table(sql_query, database_connection):\n",
    "    # A function that takes in a PostgreSQL query and outputs a pandas database\n",
    "    table = pd.read_sql_query(sql_query, database_connection)\n",
    "    return table"
   ]
  },
  {
   "cell_type": "code",
   "execution_count": 2,
   "metadata": {},
   "outputs": [],
   "source": [
    "conn = postgressql_connection(host=\"localhost\", port=5432, database=\"sparkstreamingdb\", user=\"sparkstreaming\", password=\"sparkstreaming\")\n"
   ]
  },
  {
   "cell_type": "code",
   "execution_count": 34,
   "metadata": {},
   "outputs": [],
   "source": [
    "df = create_pandas_table(\"select * from trending_hashtags\", database_connection=conn)"
   ]
  },
  {
   "cell_type": "code",
   "execution_count": 35,
   "metadata": {},
   "outputs": [
    {
     "data": {
      "text/html": [
       "<div>\n",
       "<style scoped>\n",
       "    .dataframe tbody tr th:only-of-type {\n",
       "        vertical-align: middle;\n",
       "    }\n",
       "\n",
       "    .dataframe tbody tr th {\n",
       "        vertical-align: top;\n",
       "    }\n",
       "\n",
       "    .dataframe thead th {\n",
       "        text-align: right;\n",
       "    }\n",
       "</style>\n",
       "<table border=\"1\" class=\"dataframe\">\n",
       "  <thead>\n",
       "    <tr style=\"text-align: right;\">\n",
       "      <th></th>\n",
       "      <th>hashtag</th>\n",
       "      <th>count</th>\n",
       "    </tr>\n",
       "  </thead>\n",
       "  <tbody>\n",
       "    <tr>\n",
       "      <th>34</th>\n",
       "      <td>#DelhiViolence</td>\n",
       "      <td>545</td>\n",
       "    </tr>\n",
       "    <tr>\n",
       "      <th>35</th>\n",
       "      <td>#Muslim</td>\n",
       "      <td>485</td>\n",
       "    </tr>\n",
       "    <tr>\n",
       "      <th>36</th>\n",
       "      <td>#RSS</td>\n",
       "      <td>483</td>\n",
       "    </tr>\n",
       "    <tr>\n",
       "      <th>37</th>\n",
       "      <td>#Modi’s</td>\n",
       "      <td>473</td>\n",
       "    </tr>\n",
       "    <tr>\n",
       "      <th>38</th>\n",
       "      <td>'#Viswasam'</td>\n",
       "      <td>433</td>\n",
       "    </tr>\n",
       "    <tr>\n",
       "      <th>39</th>\n",
       "      <td>#27Feb_SurpriseDay</td>\n",
       "      <td>429</td>\n",
       "    </tr>\n",
       "    <tr>\n",
       "      <th>40</th>\n",
       "      <td>#India</td>\n",
       "      <td>332</td>\n",
       "    </tr>\n",
       "    <tr>\n",
       "      <th>41</th>\n",
       "      <td>#WeSaidWeDid</td>\n",
       "      <td>249</td>\n",
       "    </tr>\n",
       "    <tr>\n",
       "      <th>42</th>\n",
       "      <td>#Sarkar</td>\n",
       "      <td>224</td>\n",
       "    </tr>\n",
       "    <tr>\n",
       "      <th>43</th>\n",
       "      <td>#TahirHussain</td>\n",
       "      <td>209</td>\n",
       "    </tr>\n",
       "    <tr>\n",
       "      <th>44</th>\n",
       "      <td>#ShameOnYouIndia</td>\n",
       "      <td>206</td>\n",
       "    </tr>\n",
       "    <tr>\n",
       "      <th>10</th>\n",
       "      <td>#SurpriseDay</td>\n",
       "      <td>205</td>\n",
       "    </tr>\n",
       "    <tr>\n",
       "      <th>11</th>\n",
       "      <td>#India,</td>\n",
       "      <td>200</td>\n",
       "    </tr>\n",
       "    <tr>\n",
       "      <th>12</th>\n",
       "      <td>#Delhi.</td>\n",
       "      <td>182</td>\n",
       "    </tr>\n",
       "    <tr>\n",
       "      <th>13</th>\n",
       "      <td>#SoniaGandhi</td>\n",
       "      <td>173</td>\n",
       "    </tr>\n",
       "    <tr>\n",
       "      <th>14</th>\n",
       "      <td>#OIC</td>\n",
       "      <td>163</td>\n",
       "    </tr>\n",
       "    <tr>\n",
       "      <th>15</th>\n",
       "      <td>#HappySurpriseDayIndia</td>\n",
       "      <td>156</td>\n",
       "    </tr>\n",
       "    <tr>\n",
       "      <th>16</th>\n",
       "      <td>#DelhiHighCourt</td>\n",
       "      <td>139</td>\n",
       "    </tr>\n",
       "    <tr>\n",
       "      <th>17</th>\n",
       "      <td>#RahulGnadhi</td>\n",
       "      <td>127</td>\n",
       "    </tr>\n",
       "    <tr>\n",
       "      <th>19</th>\n",
       "      <td>#Delhi</td>\n",
       "      <td>126</td>\n",
       "    </tr>\n",
       "  </tbody>\n",
       "</table>\n",
       "</div>"
      ],
      "text/plain": [
       "                   hashtag  count\n",
       "34          #DelhiViolence    545\n",
       "35                 #Muslim    485\n",
       "36                    #RSS    483\n",
       "37                 #Modi’s    473\n",
       "38             '#Viswasam'    433\n",
       "39      #27Feb_SurpriseDay    429\n",
       "40                  #India    332\n",
       "41            #WeSaidWeDid    249\n",
       "42                 #Sarkar    224\n",
       "43           #TahirHussain    209\n",
       "44        #ShameOnYouIndia    206\n",
       "10            #SurpriseDay    205\n",
       "11                 #India,    200\n",
       "12                 #Delhi.    182\n",
       "13            #SoniaGandhi    173\n",
       "14                    #OIC    163\n",
       "15  #HappySurpriseDayIndia    156\n",
       "16         #DelhiHighCourt    139\n",
       "17            #RahulGnadhi    127\n",
       "19                  #Delhi    126"
      ]
     },
     "execution_count": 35,
     "metadata": {},
     "output_type": "execute_result"
    }
   ],
   "source": [
    "df = df.sort_values([\"count\"], ascending=0)\n",
    "df = df[df[\"hashtag\"] != \"no tags\"]\n",
    "df = df.iloc[:20]\n",
    "df"
   ]
  },
  {
   "cell_type": "code",
   "execution_count": 7,
   "metadata": {},
   "outputs": [],
   "source": [
    "import plotly\n",
    "import plotly.graph_objs as go\n",
    "from plotly.offline import *"
   ]
  },
  {
   "cell_type": "code",
   "execution_count": 8,
   "metadata": {},
   "outputs": [
    {
     "name": "stdout",
     "output_type": "stream",
     "text": [
      "Requirement already satisfied: plotly in /opt/envs/aie/lib/python3.7/site-packages (4.5.2)\n",
      "Requirement already satisfied: six in /opt/envs/aie/lib/python3.7/site-packages (from plotly) (1.14.0)\n",
      "Requirement already satisfied: retrying>=1.3.3 in /opt/envs/aie/lib/python3.7/site-packages (from plotly) (1.3.3)\n"
     ]
    }
   ],
   "source": [
    "!pip install plotly"
   ]
  },
  {
   "cell_type": "code",
   "execution_count": 36,
   "metadata": {},
   "outputs": [
    {
     "data": {
      "text/plain": [
       "'temp-plot.html'"
      ]
     },
     "execution_count": 36,
     "metadata": {},
     "output_type": "execute_result"
    }
   ],
   "source": [
    "plotly.offline.plot([go.Bar(x=df[\"hashtag\"], y=df[\"count\"],name='TrendingTags')])"
   ]
  },
  {
   "cell_type": "code",
   "execution_count": null,
   "metadata": {},
   "outputs": [],
   "source": []
  }
 ],
 "metadata": {
  "kernelspec": {
   "display_name": "Python 3",
   "language": "python",
   "name": "python3"
  },
  "language_info": {
   "codemirror_mode": {
    "name": "ipython",
    "version": 3
   },
   "file_extension": ".py",
   "mimetype": "text/x-python",
   "name": "python",
   "nbconvert_exporter": "python",
   "pygments_lexer": "ipython3",
   "version": "3.7.6"
  }
 },
 "nbformat": 4,
 "nbformat_minor": 4
}
